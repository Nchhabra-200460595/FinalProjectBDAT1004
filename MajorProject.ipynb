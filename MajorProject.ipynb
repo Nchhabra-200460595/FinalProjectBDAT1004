{
 "cells": [
  {
   "cell_type": "code",
   "execution_count": 18,
   "metadata": {},
   "outputs": [
    {
     "name": "stdout",
     "output_type": "stream",
     "text": [
      "Requirement already satisfied: PyMySQL in c:\\users\\administrator\\anaconda3\\lib\\site-packages (1.0.2)\n",
      "Note: you may need to restart the kernel to use updated packages.\n"
     ]
    }
   ],
   "source": [
    "pip install PyMySQL"
   ]
  },
  {
   "cell_type": "code",
   "execution_count": 19,
   "metadata": {},
   "outputs": [],
   "source": [
    "import pandas as pd\n",
    "import pymysql\n",
    "from sqlalchemy import create_engine"
   ]
  },
  {
   "cell_type": "code",
   "execution_count": 20,
   "metadata": {},
   "outputs": [],
   "source": [
    "host='mydatabase.cvdbmytulfci.ca-central-1.rds.amazonaws.com'\n",
    "port=int(3306)\n",
    "user=\"nchhabra\"\n",
    "passw=\"nchhabra\"\n",
    "database=\"BDAT1004\""
   ]
  },
  {
   "cell_type": "code",
   "execution_count": 21,
   "metadata": {},
   "outputs": [],
   "source": [
    "mydb = create_engine('mysql+pymysql://' + user + ':' + passw + '@' + host + ':' + str(port) + '/' + database , echo=False)\n"
   ]
  },
  {
   "cell_type": "code",
   "execution_count": 22,
   "metadata": {},
   "outputs": [
    {
     "data": {
      "text/html": [
       "<div>\n",
       "<style scoped>\n",
       "    .dataframe tbody tr th:only-of-type {\n",
       "        vertical-align: middle;\n",
       "    }\n",
       "\n",
       "    .dataframe tbody tr th {\n",
       "        vertical-align: top;\n",
       "    }\n",
       "\n",
       "    .dataframe thead th {\n",
       "        text-align: right;\n",
       "    }\n",
       "</style>\n",
       "<table border=\"1\" class=\"dataframe\">\n",
       "  <thead>\n",
       "    <tr style=\"text-align: right;\">\n",
       "      <th></th>\n",
       "      <th>Platforms</th>\n",
       "      <th>Metric</th>\n",
       "      <th>Year2017</th>\n",
       "      <th>Year2018</th>\n",
       "      <th>Year2019</th>\n",
       "      <th>Year2020</th>\n",
       "    </tr>\n",
       "  </thead>\n",
       "  <tbody>\n",
       "    <tr>\n",
       "      <th>0</th>\n",
       "      <td>Nintendo Switch hardware/Japan</td>\n",
       "      <td>ten thousand units (hardware)</td>\n",
       "      <td>60</td>\n",
       "      <td>378</td>\n",
       "      <td>385</td>\n",
       "      <td>521</td>\n",
       "    </tr>\n",
       "    <tr>\n",
       "      <th>1</th>\n",
       "      <td>Nintendo Switch hardware/The Americas</td>\n",
       "      <td>ten thousand units (hardware)</td>\n",
       "      <td>120</td>\n",
       "      <td>594</td>\n",
       "      <td>688</td>\n",
       "      <td>811</td>\n",
       "    </tr>\n",
       "    <tr>\n",
       "      <th>2</th>\n",
       "      <td>Nintendo Switch hardware/Europe</td>\n",
       "      <td>ten thousand units (hardware)</td>\n",
       "      <td>76</td>\n",
       "      <td>379</td>\n",
       "      <td>455</td>\n",
       "      <td>534</td>\n",
       "    </tr>\n",
       "    <tr>\n",
       "      <th>3</th>\n",
       "      <td>Nintendo Switch hardware/Other</td>\n",
       "      <td>ten thousand units (hardware)</td>\n",
       "      <td>18</td>\n",
       "      <td>154</td>\n",
       "      <td>169</td>\n",
       "      <td>237</td>\n",
       "    </tr>\n",
       "    <tr>\n",
       "      <th>4</th>\n",
       "      <td>Nintendo Switch software/Japan</td>\n",
       "      <td>ten thousand units (software)</td>\n",
       "      <td>89</td>\n",
       "      <td>1,226</td>\n",
       "      <td>2,148</td>\n",
       "      <td>3,256</td>\n",
       "    </tr>\n",
       "  </tbody>\n",
       "</table>\n",
       "</div>"
      ],
      "text/plain": [
       "                               Platforms                         Metric  \\\n",
       "0         Nintendo Switch hardware/Japan  ten thousand units (hardware)   \n",
       "1  Nintendo Switch hardware/The Americas  ten thousand units (hardware)   \n",
       "2        Nintendo Switch hardware/Europe  ten thousand units (hardware)   \n",
       "3         Nintendo Switch hardware/Other  ten thousand units (hardware)   \n",
       "4         Nintendo Switch software/Japan  ten thousand units (software)   \n",
       "\n",
       "   Year2017 Year2018 Year2019 Year2020  \n",
       "0        60      378      385      521  \n",
       "1       120      594      688      811  \n",
       "2        76      379      455      534  \n",
       "3        18      154      169      237  \n",
       "4        89    1,226    2,148    3,256  "
      ]
     },
     "execution_count": 22,
     "metadata": {},
     "output_type": "execute_result"
    }
   ],
   "source": [
    "dataset = \"https://raw.githubusercontent.com/Nchhabra-200460595/FinalProjectBDAT1004/main/Data.csv\"\n",
    "data = pd.read_csv(dataset,delimiter=',')\n",
    "data.head()"
   ]
  },
  {
   "cell_type": "code",
   "execution_count": 23,
   "metadata": {},
   "outputs": [],
   "source": [
    "data.to_sql(name=\"DATA\", con=mydb, if_exists = 'replace', index=False)\n"
   ]
  },
  {
   "cell_type": "code",
   "execution_count": 25,
   "metadata": {},
   "outputs": [
    {
     "name": "stdout",
     "output_type": "stream",
     "text": [
      "('Nintendo Switch hardware/Japan', 'ten thousand units (hardware)', 60, '378', '385', '521', 1)\n",
      "('Nintendo Switch hardware/The Americas', 'ten thousand units (hardware)', 120, '594', '688', '811', 2)\n",
      "('Nintendo Switch hardware/Europe', 'ten thousand units (hardware)', 76, '379', '455', '534', 3)\n",
      "('Nintendo Switch hardware/Other', 'ten thousand units (hardware)', 18, '154', '169', '237', 4)\n",
      "('Nintendo Switch software/Japan', 'ten thousand units (software)', 89, '1,226', '2,148', '3,256', 5)\n",
      "('Nintendo Switch software/The Americas', 'ten thousand units (software)', 286, '2,752', '5,394', '7,428', 6)\n",
      "('Nintendo Switch software/Europe', 'ten thousand units (software)', 142, '1,917', '3,516', '5,017', 7)\n",
      "('Nintendo Switch software/Other', 'ten thousand units (software)', 29, '456', '797', '1,171', 8)\n"
     ]
    }
   ],
   "source": [
    "import mysql.connector\n",
    "\n",
    "mydb = mysql.connector.connect(\n",
    "  host=\"mydatabase.cvdbmytulfci.ca-central-1.rds.amazonaws.com\",\n",
    "  user=\"nchhabra\",\n",
    "  password=\"nchhabra\",\n",
    "  database=\"BDAT1004\"\n",
    ")\n",
    "\n",
    "mycursor = mydb.cursor()\n",
    "\n",
    "mycursor.execute(\"SELECT * FROM DATA\")\n",
    "\n",
    "myresult = mycursor.fetchall()\n",
    "\n",
    "for x in myresult:\n",
    "  print(x)\n",
    "\n"
   ]
  },
  {
   "cell_type": "code",
   "execution_count": 18,
   "metadata": {},
   "outputs": [
    {
     "name": "stdout",
     "output_type": "stream",
     "text": [
      "Collecting python-crontab\n",
      "  Downloading python-crontab-2.5.1.tar.gz (52 kB)\n",
      "Requirement already satisfied: python-dateutil in c:\\users\\administrator\\anaconda3\\lib\\site-packages (from python-crontab) (2.8.1)Note: you may need to restart the kernel to use updated packages.\n",
      "\n",
      "Requirement already satisfied: six>=1.5 in c:\\users\\administrator\\anaconda3\\lib\\site-packages (from python-dateutil->python-crontab) (1.15.0)\n",
      "Building wheels for collected packages: python-crontab\n",
      "  Building wheel for python-crontab (setup.py): started\n",
      "  Building wheel for python-crontab (setup.py): finished with status 'done'\n",
      "  Created wheel for python-crontab: filename=python_crontab-2.5.1-py3-none-any.whl size=25602 sha256=538fd72c49f231fa81166ec0eda48735285646f69d0ff3dedf32c17c8d5098b0\n",
      "  Stored in directory: c:\\users\\administrator\\appdata\\local\\pip\\cache\\wheels\\cd\\5b\\e4\\6bfb654d6f4233c071d234f9430f7b4df6b26fbead91871811\n",
      "Successfully built python-crontab\n",
      "Installing collected packages: python-crontab\n",
      "Successfully installed python-crontab-2.5.1\n"
     ]
    }
   ],
   "source": [
    "pip install python-crontab"
   ]
  },
  {
   "cell_type": "code",
   "execution_count": null,
   "metadata": {},
   "outputs": [],
   "source": []
  },
  {
   "cell_type": "code",
   "execution_count": null,
   "metadata": {},
   "outputs": [],
   "source": []
  }
 ],
 "metadata": {
  "kernelspec": {
   "display_name": "Python 3",
   "language": "python",
   "name": "python3"
  },
  "language_info": {
   "codemirror_mode": {
    "name": "ipython",
    "version": 3
   },
   "file_extension": ".py",
   "mimetype": "text/x-python",
   "name": "python",
   "nbconvert_exporter": "python",
   "pygments_lexer": "ipython3",
   "version": "3.8.5"
  }
 },
 "nbformat": 4,
 "nbformat_minor": 4
}
